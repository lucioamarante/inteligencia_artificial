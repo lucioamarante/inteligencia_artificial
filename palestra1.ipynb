{
 "cells": [
  {
   "cell_type": "code",
   "execution_count": null,
   "metadata": {},
   "outputs": [],
   "source": []
  },
  {
   "attachments": {},
   "cell_type": "markdown",
   "metadata": {},
   "source": [
    "- A Inteligencia Artificial é a imitacao da vida\n",
    "- 1950: os primeiros computadores construindo a historia da IA\n",
    "- Inverno da IA: empolgacao seguida por uma desilusao\n",
    "- IA baseada em lógica foi perdendo espaço para uma IA baseada em Dados e Estatistica \n",
    "- Machine Learnig aplicado ao comércio\n",
    "- Redes Neurais, Big Data (Cloud Computer e Databricks)\n",
    "- \"Maquina Viva\": mitologia, grecia antiga, china\n",
    "- Seculo XVII: dispositivos \"automatos\"\n",
    "- Filosofos - pensamento humano pode ser simulado por simbolos\n",
    "- Alan Turing (1912-1954): teste da maquina de turing (maquina tem ou nao tem inteligencia similar a humana)\n",
    "- Quem voce considera inteligente: \n",
    "- Linguistica, Artistica, Numerica, Sensorial, Espacial, Emocional, Fisica, Reflexiva"
   ]
  },
  {
   "cell_type": "code",
   "execution_count": null,
   "metadata": {},
   "outputs": [],
   "source": []
  }
 ],
 "metadata": {
  "language_info": {
   "name": "python"
  },
  "orig_nbformat": 4
 },
 "nbformat": 4,
 "nbformat_minor": 2
}
