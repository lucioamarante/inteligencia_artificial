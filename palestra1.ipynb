{
 "cells": [
  {
   "cell_type": "code",
   "execution_count": null,
   "metadata": {},
   "outputs": [],
   "source": []
  },
  {
   "attachments": {},
   "cell_type": "markdown",
   "metadata": {},
   "source": [
    "- A Inteligencia Artificial é a imitacao da vida\n",
    "- 1950: os primeiros computadores construindo a historia da IA\n",
    "- Inverno da IA: empolgacao seguida por uma desilusao\n",
    "- IA baseada em lógica foi perdendo espaço para uma IA baseada em Dados e Estatistica \n",
    "- Machine Learnig aplicado ao comércio\n",
    "- Redes Neurais, Big Data (Cloud Computer e Databricks)\n",
    "- \"Maquina Viva\": mitologia, grecia antiga, china\n",
    "- Seculo XVII: dispositivos \"automatos\"\n",
    "- Filosofos - pensamento humano pode ser simulado por simbolos\n",
    "- Alan Turing (1912-1954): teste da maquina de turing (maquina tem ou nao tem inteligencia similar a humana)\n",
    "- Quem voce considera inteligente: \n",
    "- Linguistica, Artistica, Numerica, Sensorial, Espacial, Emocional, Fisica, Reflexiva"
   ]
  },
  {
   "attachments": {},
   "cell_type": "markdown",
   "metadata": {},
   "source": [
    " # Data Driven  "
   ]
  },
  {
   "attachments": {},
   "cell_type": "markdown",
   "metadata": {},
   "source": [
    "Uma empresa orientada a Dados\n",
    "- Voces já possuem os dados, mas uitilizam em uma visão Data Driven\n",
    "- Netflix\n",
    "- Spotify\n",
    "- Wall Mart"
   ]
  },
  {
   "attachments": {},
   "cell_type": "markdown",
   "metadata": {},
   "source": [
    "# DataSet Games\n"
   ]
  },
  {
   "cell_type": "code",
   "execution_count": 1,
   "metadata": {},
   "outputs": [
    {
     "name": "stdout",
     "output_type": "stream",
     "text": [
      "Hello World\n"
     ]
    }
   ],
   "source": [
    "print (\"Hello World\")"
   ]
  },
  {
   "attachments": {},
   "cell_type": "markdown",
   "metadata": {},
   "source": [
    "# Dataset Filmes"
   ]
  }
 ],
 "metadata": {
  "kernelspec": {
   "display_name": "venv",
   "language": "python",
   "name": "python3"
  },
  "language_info": {
   "codemirror_mode": {
    "name": "ipython",
    "version": 3
   },
   "file_extension": ".py",
   "mimetype": "text/x-python",
   "name": "python",
   "nbconvert_exporter": "python",
   "pygments_lexer": "ipython3",
   "version": "3.13.7"
  },
  "orig_nbformat": 4
 },
 "nbformat": 4,
 "nbformat_minor": 2
}
